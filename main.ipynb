{
 "cells": [
  {
   "cell_type": "code",
   "execution_count": 1,
   "metadata": {},
   "outputs": [],
   "source": [
    "import pandas as pd\n",
    "import numpy as np\n",
    "from TextHandler import *"
   ]
  },
  {
   "cell_type": "code",
   "execution_count": 2,
   "metadata": {},
   "outputs": [
    {
     "name": "stdout",
     "output_type": "stream",
     "text": [
      "                                                text     type\n",
      "0  \\nأشرف رئيس الجمهورية الباجي قايد السبسي اليوم...  culture\n",
      "1  \\nتحصل كتاب \"المصحف وقراءاته\" الذي ألفه باحثون...  culture\n",
      "2  \\nاستنكرت إدارة المسرح الوطني التونسي الحملة ا...  culture\n",
      "3  \\nاحتضن جناح تونس في القرية الدولية للأفلام بم...  culture\n",
      "4  \\nشهدت برلين أمس الجمعة افتتاح مسجد فريد من نو...  culture\n"
     ]
    }
   ],
   "source": [
    "df= pd.read_csv('data/arabic_categorization_data.csv')\n",
    "df.drop(df.columns[0], axis=1, inplace=True)\n",
    "df.dropna(inplace=True)\n",
    "print(df.head())"
   ]
  },
  {
   "cell_type": "code",
   "execution_count": 3,
   "metadata": {},
   "outputs": [
    {
     "name": "stdout",
     "output_type": "stream",
     "text": [
      "0    \\nأشرف رئيس الجمهورية الباجي قايد السبسي اليوم...\n",
      "Name: text, dtype: object\n",
      "['أشرف رئيس الجمهورية الباجي قايد السبسي اليوم بقصر قرطاج موكب منح الوسام الوطني للاستحقاق الثقافي الفنانين والمبدعين بمناسبة انعقاد أيام قرطاج السينمائية والفنانون الصنف عبد الرحمان سيساكو موريتانيا جميل راتب مصر ميشال خليفي فلسطين ادريسا ودراغو بوركينا فاسو محمد ملص سوريا رضا الباهي تونس الحضور عمر الخليفي تونس الصنف الثاني عبد العزيز بن ملوكة تونس نجيب تونس منصف شرف الدين تونس الحضور الصنف الثالث ابراهيم تونس الخياطي تونس الحضور تونس عليها الحضور شوقي الماجري تونس الصنف الرابع كوثر بن تونس']\n"
     ]
    }
   ],
   "source": [
    "data=df['text']\n",
    "print(data[:1])\n",
    "preprocessed_data=preprocess_text(data[:1])\n",
    "print(preprocessed_data)\n",
    "# for n,text in enumerate(preprocessed_data):\n",
    "#     for i in  range(1,5):\n",
    "#         if(len(text.split())<i):\n",
    "#             break\n",
    "#         print(i,'-gram:',n_gram(text,i))\n",
    "#         print(i,'Tf-Idf:',tf_idf(preprocessed_data,i)[n])\n",
    "\n",
    "#     print('')"
   ]
  }
 ],
 "metadata": {
  "kernelspec": {
   "display_name": "Python 3",
   "language": "python",
   "name": "python3"
  },
  "language_info": {
   "codemirror_mode": {
    "name": "ipython",
    "version": 3
   },
   "file_extension": ".py",
   "mimetype": "text/x-python",
   "name": "python",
   "nbconvert_exporter": "python",
   "pygments_lexer": "ipython3",
   "version": "3.11.0"
  },
  "orig_nbformat": 4
 },
 "nbformat": 4,
 "nbformat_minor": 2
}
