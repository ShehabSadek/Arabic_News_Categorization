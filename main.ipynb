{
 "cells": [
  {
   "cell_type": "code",
   "execution_count": 1,
   "metadata": {},
   "outputs": [],
   "source": [
    "import pandas as pd\n",
    "from TextHandler import *"
   ]
  },
  {
   "cell_type": "code",
   "execution_count": 2,
   "metadata": {},
   "outputs": [
    {
     "name": "stdout",
     "output_type": "stream",
     "text": [
      "data_Set_1_credible: articles    4394\n",
      "dtype: int64\n",
      "data_Set_2_credible: articles    1211\n",
      "dtype: int64\n",
      "data_Set_3_not-credible: articles    2704\n",
      "dtype: int64\n",
      "data_Set_4_not-credible: articles    3381\n",
      "dtype: int64\n"
     ]
    }
   ],
   "source": [
    "sources = pd.read_json('datasets/sources.json', orient='index')\n",
    "\n",
    "df_credible_1 = pd.read_json('datasets/source_3/scraped_articles.json')\n",
    "df_credible_2 = pd.read_json('datasets/source_6/scraped_articles.json')\n",
    "\n",
    "df_not_credible_1 = pd.read_json('datasets/source_7/scraped_articles.json')\n",
    "df_not_credible_2 = pd.read_json('datasets/source_14/scraped_articles.json')\n",
    "\n",
    "print(\"data_Set_1_credible:\",df_credible_1.count())\n",
    "print(\"data_Set_2_credible:\",df_credible_2.count())\n",
    "print(\"data_Set_3_not-credible:\",df_not_credible_1.count())\n",
    "print(\"data_Set_4_not-credible:\",df_not_credible_2.count())"
   ]
  },
  {
   "cell_type": "code",
   "execution_count": 3,
   "metadata": {},
   "outputs": [
    {
     "name": "stdout",
     "output_type": "stream",
     "text": [
      "New DataFrame:\n",
      "                                                text  credibility\n",
      "0  تمكنت عناصر جهاز خفر السواحل الليبي، فجر اليوم...            0\n",
      "1  أكد المبعوث الأميركي الخاص إلى السودان وجنوب ا...            0\n",
      "2  ‬اطلع رئيس لجنة الإدارة المكلف بشركة الخليج ال...            0\n",
      "3  ‬نشرت الشركة الليبية للموانئ بيانات حديثة أظهر...            0\n",
      "4  طالب حراك “الاستفتاء أولا” بعرض مسودة الدستور ...            0\n"
     ]
    }
   ],
   "source": [
    "merged_df = pd.concat([df_credible_1, df_credible_2, df_not_credible_1, df_not_credible_2])\n",
    "\n",
    "merged_df['credibility'] = 1\n",
    "merged_df.loc[merged_df.index.isin(df_not_credible_1.index) | merged_df.index.isin(df_not_credible_2.index), 'credibility'] = 0\n",
    "\n",
    "\n",
    "texts = []\n",
    "for article in merged_df['articles']:\n",
    "    text = article['text']\n",
    "    texts.append(text)\n",
    "\n",
    "merged_df['text'] = texts\n",
    "\n",
    "new_df = merged_df[['text', 'credibility']]\n",
    "print(\"New DataFrame:\")\n",
    "print(new_df.head())"
   ]
  },
  {
   "cell_type": "code",
   "execution_count": 4,
   "metadata": {},
   "outputs": [
    {
     "name": "stdout",
     "output_type": "stream",
     "text": [
      "تمك عنصر جهز خفر سحل ليب فجر اليوم قاذ هجر طرق الا شواطاء الا ورب علا متن زورق ططي نقل وكل ليب نطق رئس ارك قوت بحر ان زورق زوي تحر تلق ندء غاث عمل علا قاذ هجر زال قعد طرابلس بحر نقل الا جهز كفح هجر قنن تمم جرء رحل بلد وكان خفر سحل ليب اعد ايم قلل هجر الا ليب خلل عمل قاذ نفذ طلع اعل تحدث بسم ظمه هجر دول\n"
     ]
    }
   ],
   "source": [
    "data=new_df['text']\n",
    "preprocessed_data=preprocess_text(data)\n",
    "print(preprocessed_data[0])"
   ]
  },
  {
   "cell_type": "code",
   "execution_count": 5,
   "metadata": {},
   "outputs": [
    {
     "name": "stdout",
     "output_type": "stream",
     "text": [
      "----- n-gram range: (1, 1) -----\n",
      "LR: Accuracy = 0.9084687767322498\n",
      "Accuracy for n-gram range (1, 1): 0.9084687767322498\n",
      "RF: Accuracy = 0.9106073567151411\n",
      "Accuracy for n-gram range (1, 1): 0.9106073567151411\n",
      "KNN: Accuracy = 0.9020530367835757\n",
      "Accuracy for n-gram range (1, 1): 0.9020530367835757\n",
      "NB: Accuracy = 0.9084687767322498\n",
      "Accuracy for n-gram range (1, 1): 0.9084687767322498\n",
      "SVM: Accuracy = 0.9088964927288281\n",
      "Accuracy for n-gram range (1, 1): 0.9088964927288281\n",
      "\n",
      "\n",
      "----- n-gram range: (2, 2) -----\n",
      "LR: Accuracy = 0.9084687767322498\n",
      "Accuracy for n-gram range (2, 2): 0.9084687767322498\n",
      "RF: Accuracy = 0.9131736526946108\n",
      "Accuracy for n-gram range (2, 2): 0.9131736526946108\n",
      "KNN: Accuracy = 0.9084687767322498\n",
      "Accuracy for n-gram range (2, 2): 0.9084687767322498\n",
      "NB: Accuracy = 0.9084687767322498\n",
      "Accuracy for n-gram range (2, 2): 0.9084687767322498\n",
      "SVM: Accuracy = 0.9101796407185628\n",
      "Accuracy for n-gram range (2, 2): 0.9101796407185628\n",
      "\n",
      "\n",
      "----- n-gram range: (3, 3) -----\n",
      "LR: Accuracy = 0.9084687767322498\n",
      "Accuracy for n-gram range (3, 3): 0.9084687767322498\n"
     ]
    }
   ],
   "source": [
    "from sklearn.feature_extraction.text import TfidfVectorizer\n",
    "from sklearn.model_selection import train_test_split\n",
    "from sklearn.linear_model import LogisticRegression\n",
    "from sklearn.ensemble import RandomForestClassifier\n",
    "from sklearn.neighbors import KNeighborsClassifier\n",
    "from sklearn.naive_bayes import MultinomialNB\n",
    "from sklearn.svm import SVC\n",
    "from sklearn.metrics import accuracy_score\n",
    "\n",
    "X_train, X_test, y_train, y_test = train_test_split(preprocessed_data, new_df['credibility'], test_size=0.2, random_state=42)\n",
    "\n",
    "ngram_ranges = [(1, 1), (2, 2), (3, 3), (4, 4)]\n",
    "\n",
    "for ngram_range in ngram_ranges:\n",
    "    print(f\"----- n-gram range: {ngram_range} -----\")\n",
    "    \n",
    "    vectorizer = TfidfVectorizer(ngram_range=ngram_range)\n",
    "    X_train_vectorized = vectorizer.fit_transform(X_train)\n",
    "    X_test_vectorized = vectorizer.transform(X_test)\n",
    "    \n",
    "    models = {\n",
    "        'LR': LogisticRegression(),\n",
    "        'RF': RandomForestClassifier(),\n",
    "        'KNN': KNeighborsClassifier(),\n",
    "        'NB': MultinomialNB(),\n",
    "        'SVM': SVC()\n",
    "    }\n",
    "    \n",
    "    for model_name, model in models.items():\n",
    "        model.fit(X_train_vectorized, y_train)\n",
    "        y_pred = model.predict(X_test_vectorized)\n",
    "        accuracy = accuracy_score(y_test, y_pred)\n",
    "        print(f'{model_name}: Accuracy = {accuracy}')\n",
    "        print(f\"Accuracy for n-gram range {ngram_range}: {accuracy}\")\n",
    "\n",
    "    print(\"\\n\")\n"
   ]
  },
  {
   "cell_type": "code",
   "execution_count": null,
   "metadata": {},
   "outputs": [],
   "source": [
    "from sklearn.ensemble import RandomForestClassifier\n",
    "from sklearn.linear_model import LogisticRegression\n",
    "from sklearn.naive_bayes import MultinomialNB\n",
    "from sklearn.neighbors import KNeighborsClassifier\n",
    "from sklearn.svm import SVC\n",
    "from sklearn.metrics import accuracy_score\n",
    "from sklearn.feature_extraction.text import TfidfVectorizer\n",
    "from sklearn.model_selection import train_test_split\n",
    "\n",
    "X_train, X_test, y_train, y_test = train_test_split(preprocess_text, new_df['credibility'], test_size=0.2, random_state=42)\n",
    "\n",
    "ngram_ranges = [(1, 1), (2, 2), (3, 3), (4, 4)]\n",
    "\n",
    "classifiers = [\n",
    "    LogisticRegression(max_iter=1000),\n",
    "    MultinomialNB(),\n",
    "    KNeighborsClassifier(),\n",
    "    RandomForestClassifier(),\n",
    "    SVC()\n",
    "]\n",
    "\n",
    "for classifier in classifiers:\n",
    "    classifier_name = classifier.__class__.__name__\n",
    "    print(f\"Classifier: {classifier_name}\")\n",
    "    for ngram_range in ngram_ranges:\n",
    "        vectorizer = TfidfVectorizer(ngram_range=ngram_range)\n",
    "        X_train_tfidf = vectorizer.fit_transform(X_train)\n",
    "        X_test_tfidf = vectorizer.transform(X_test)\n",
    "\n",
    "        classifier.fit(X_train_tfidf, y_train)\n",
    "\n",
    "        y_pred = classifier.predict(X_test_tfidf)\n",
    "\n",
    "        accuracy = accuracy_score(y_test, y_pred)\n",
    "        print(f\"Accuracy for n-gram range {ngram_range}: {accuracy}\")"
   ]
  }
 ],
 "metadata": {
  "kernelspec": {
   "display_name": "Python 3",
   "language": "python",
   "name": "python3"
  },
  "language_info": {
   "codemirror_mode": {
    "name": "ipython",
    "version": 3
   },
   "file_extension": ".py",
   "mimetype": "text/x-python",
   "name": "python",
   "nbconvert_exporter": "python",
   "pygments_lexer": "ipython3",
   "version": "3.11.0"
  },
  "orig_nbformat": 4
 },
 "nbformat": 4,
 "nbformat_minor": 2
}
