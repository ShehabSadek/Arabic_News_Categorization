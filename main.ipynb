{
 "cells": [
  {
   "cell_type": "code",
   "execution_count": null,
   "metadata": {},
   "outputs": [],
   "source": [
    "import pandas as pd\n",
    "import numpy as np\n",
    "from TextHandler import *"
   ]
  },
  {
   "cell_type": "code",
   "execution_count": null,
   "metadata": {},
   "outputs": [],
   "source": [
    "df_1= pd.read_csv('data/arabic_categorization_data.csv')\n",
    "df_1.drop(df_1.columns[0], axis=1, inplace=True)\n",
    "df_1.dropna(inplace=True)\n",
    "print(df_1.columns)\n",
    "\n",
    "df_2= pd.read_csv('data/processed_data.csv')\n",
    "df_2.drop(df_2.columns[0], axis=1, inplace=True)\n",
    "df_2.dropna(inplace=True)\n",
    "print(df_2.columns)"
   ]
  },
  {
   "cell_type": "code",
   "execution_count": null,
   "metadata": {},
   "outputs": [],
   "source": [
    "data=df_1['text']\n",
    "print(data[:1])\n",
    "preprocessed_data_1=preprocess_text(data)"
   ]
  },
  {
   "cell_type": "code",
   "execution_count": null,
   "metadata": {},
   "outputs": [],
   "source": [
    "data=df_2['Content']\n",
    "print(data[:1])\n",
    "preprocessed_data_2=preprocess_text(data)\n"
   ]
  },
  {
   "cell_type": "code",
   "execution_count": null,
   "metadata": {},
   "outputs": [],
   "source": [
    "# from sklearn.ensemble import RandomForestClassifier\n",
    "# from sklearn.linear_model import LogisticRegression\n",
    "# from sklearn.naive_bayes import MultinomialNB\n",
    "# from sklearn.neighbors import KNeighborsClassifier\n",
    "# from sklearn.svm import SVC\n",
    "# from sklearn.metrics import accuracy_score\n",
    "# from sklearn.feature_extraction.text import TfidfVectorizer\n",
    "# from sklearn.model_selection import train_test_split\n",
    "\n",
    "# X_train, X_test, y_train, y_test = train_test_split(preprocessed_data_1, df_1['type'], test_size=0.2, random_state=42)\n",
    "\n",
    "# ngram_ranges = [(1, 1), (2, 2), (3, 3), (4, 4)]\n",
    "\n",
    "# classifiers = [\n",
    "#     LogisticRegression(max_iter=1000),\n",
    "#     MultinomialNB(),\n",
    "#     KNeighborsClassifier(),\n",
    "#     RandomForestClassifier(),\n",
    "#     SVC()\n",
    "# ]\n",
    "\n",
    "# for classifier in classifiers:\n",
    "#     classifier_name = classifier.__class__.__name__\n",
    "#     print(f\"Classifier: {classifier_name}\")\n",
    "#     for ngram_range in ngram_ranges:\n",
    "#         vectorizer = TfidfVectorizer(ngram_range=ngram_range)\n",
    "#         X_train_tfidf = vectorizer.fit_transform(X_train)\n",
    "#         X_test_tfidf = vectorizer.transform(X_test)\n",
    "\n",
    "#         classifier.fit(X_train_tfidf, y_train)\n",
    "\n",
    "#         y_pred = classifier.predict(X_test_tfidf)\n",
    "\n",
    "#         accuracy = accuracy_score(y_test, y_pred)\n",
    "#         print(f\"Accuracy for n-gram range {ngram_range}: {accuracy}\")\n"
   ]
  },
  {
   "cell_type": "code",
   "execution_count": null,
   "metadata": {},
   "outputs": [],
   "source": [
    "from sklearn.ensemble import RandomForestClassifier\n",
    "from sklearn.linear_model import LogisticRegression\n",
    "from sklearn.naive_bayes import MultinomialNB\n",
    "from sklearn.neighbors import KNeighborsClassifier\n",
    "from sklearn.svm import SVC\n",
    "from sklearn.metrics import accuracy_score\n",
    "from sklearn.feature_extraction.text import TfidfVectorizer\n",
    "from sklearn.model_selection import train_test_split\n",
    "\n",
    "X_train, X_test, y_train, y_test = train_test_split(preprocessed_data_2, df_2['Category'], test_size=0.2, random_state=42)\n",
    "\n",
    "ngram_ranges = [(1, 1), (2, 2), (3, 3), (4, 4)]\n",
    "\n",
    "classifiers = [\n",
    "    LogisticRegression(max_iter=1000),\n",
    "    MultinomialNB(),\n",
    "    KNeighborsClassifier(),\n",
    "    RandomForestClassifier(),\n",
    "    SVC()\n",
    "]\n",
    "\n",
    "for classifier in classifiers:\n",
    "    classifier_name = classifier.__class__.__name__\n",
    "    print(f\"Classifier: {classifier_name}\")\n",
    "    for ngram_range in ngram_ranges:\n",
    "        vectorizer = TfidfVectorizer(ngram_range=ngram_range)\n",
    "        X_train_tfidf = vectorizer.fit_transform(X_train)\n",
    "        X_test_tfidf = vectorizer.transform(X_test)\n",
    "\n",
    "        classifier.fit(X_train_tfidf, y_train)\n",
    "\n",
    "        y_pred = classifier.predict(X_test_tfidf)\n",
    "\n",
    "        accuracy = accuracy_score(y_test, y_pred)\n",
    "        print(f\"Accuracy for n-gram range {ngram_range}: {accuracy}\")\n"
   ]
  },
  {
   "cell_type": "code",
   "execution_count": null,
   "metadata": {},
   "outputs": [],
   "source": []
  }
 ],
 "metadata": {
  "kernelspec": {
   "display_name": "Python 3",
   "language": "python",
   "name": "python3"
  },
  "language_info": {
   "codemirror_mode": {
    "name": "ipython",
    "version": 3
   },
   "file_extension": ".py",
   "mimetype": "text/x-python",
   "name": "python",
   "nbconvert_exporter": "python",
   "pygments_lexer": "ipython3",
   "version": "3.11.0"
  },
  "orig_nbformat": 4
 },
 "nbformat": 4,
 "nbformat_minor": 2
}
